{
 "cells": [
  {
   "cell_type": "code",
   "execution_count": null,
   "metadata": {},
   "outputs": [],
   "source": [
    "from platform import python_version\n",
    "print(python_version())"
   ]
  },
  {
   "cell_type": "markdown",
   "metadata": {},
   "source": [
    "we will show you how to access market data using Polygon's Stock API and the Python programming language. Polygon is a financial data platform that provides both real-time and historical market data for Stocks, Options, Forex, and Crypto. With access to this information, developers, investors, and financial institutions can gain valuable insights and make informed decisions.\n",
    "#https://polygon.io/blog/polygon-io-with-python-for-stock-market-data/\n",
    "\n",
    "#“polygon-api-client” client library for accessing market data\n",
    "#\"requests\" for REST API requests, and \"websockets\" for real-time data streaming.\n",
    "#\"websockets\" for real-time data streaming - This feature comes under paid subscription"
   ]
  },
  {
   "cell_type": "code",
   "execution_count": null,
   "metadata": {},
   "outputs": [],
   "source": [
    "#!pip install polygon-api-client\n",
    "from polygon import RESTClient # We need Python version 3.8+ to install polygon package\n",
    "from datetime import datetime\n",
    "import pandas as pd\n",
    "import pprint\n"
   ]
  },
  {
   "cell_type": "code",
   "execution_count": null,
   "metadata": {},
   "outputs": [],
   "source": [
    "# API Key \n",
    "polygon_api_key=\"ACCESS-Key\"\n",
    "client = RESTClient(polygon_api_key)"
   ]
  },
  {
   "cell_type": "code",
   "execution_count": null,
   "metadata": {},
   "outputs": [],
   "source": [
    "#To get a list exchanges in USA\n",
    "exchanges = pd.DataFrame(client.get_exchanges(asset_class='stocks',\n",
    "                                              locale='us'))"
   ]
  },
  {
   "cell_type": "code",
   "execution_count": null,
   "metadata": {},
   "outputs": [],
   "source": [
    "exchanges.head()"
   ]
  },
  {
   "cell_type": "code",
   "execution_count": null,
   "metadata": {},
   "outputs": [],
   "source": [
    "tickers = []\n",
    "for t in client.list_tickers(market=\"stocks\", type=\"CS\", active=True, limit=1000):\n",
    "    tickers.append(t)\n",
    "print(tickers)"
   ]
  },
  {
   "cell_type": "code",
   "execution_count": null,
   "metadata": {},
   "outputs": [],
   "source": [
    "df_tickers =pd.DataFrame(tickers)"
   ]
  },
  {
   "cell_type": "code",
   "execution_count": null,
   "metadata": {},
   "outputs": [],
   "source": [
    "df_tickers.head()"
   ]
  },
  {
   "cell_type": "code",
   "execution_count": null,
   "metadata": {},
   "outputs": [],
   "source": [
    "from datetime import datetime,timedelta\n",
    "today_date = datetime.now().strftime(\"%Y-%m-%d\")\n",
    "today_date_minus_1=datetime.now() + timedelta(days=-1) \n",
    "yesterday=today_date_minus_1.strftime(\"%Y-%m-%d\")\n",
    "\n",
    "today_date_minus_30=datetime.now() + timedelta(days=-30) \n",
    "\n",
    "start_date=today_date_minus_30.strftime(\"%Y-%m-%d\")\n",
    "end_date= datetime.now() + timedelta(days=-1) \n",
    "end_date=end_date.strftime(\"%Y-%m-%d\")"
   ]
  },
  {
   "cell_type": "code",
   "execution_count": null,
   "metadata": {},
   "outputs": [],
   "source": [
    "# Get the daily open, high, low, and close (OHLC) for the entire market.\n",
    "\n",
    "\n",
    "\n",
    "mktData = client.get_grouped_daily_aggs(date=end_date)\n",
    "\n",
    "# pprint (short for \"pretty-print\") is a module that provides a more human-\n",
    "# readable output format for data structures.\n",
    "pp = pprint.PrettyPrinter(indent=2)\n",
    "pp.pprint(mktData)"
   ]
  },
  {
   "cell_type": "code",
   "execution_count": null,
   "metadata": {},
   "outputs": [],
   "source": [
    "# getting  details for a ticker\n",
    "details = client.get_ticker_details(\"AAPL\")\n",
    "print(details)\n",
    "#df_details_ticker=pd.DataFrame(details)"
   ]
  },
  {
   "cell_type": "code",
   "execution_count": null,
   "metadata": {},
   "outputs": [],
   "source": [
    "# Get aggregate bars for a ticker over a given date range in custom time window sizes.\n",
    "# We will use this data to send it to Kafka Producer\n",
    "\n",
    "ticker='AAPL'\n",
    "aggs = client.get_aggs(\n",
    "    ticker=ticker,\n",
    "    multiplier=1, \n",
    "    timespan=\"day\",\n",
    "    from_=start_date,\n",
    "    to=end_date,\n",
    ")\n",
    "\n",
    "df_apple_30days_data=pd.DataFrame(aggs)"
   ]
  },
  {
   "cell_type": "code",
   "execution_count": null,
   "metadata": {},
   "outputs": [],
   "source": [
    "df_apple_30days_data['timestamp'] = df_apple_30days_data['timestamp'].apply(\n",
    "                          lambda x: pd.to_datetime(x*1000000))"
   ]
  },
  {
   "cell_type": "code",
   "execution_count": null,
   "metadata": {},
   "outputs": [],
   "source": [
    "df_apple_30days_data.head()"
   ]
  },
  {
   "cell_type": "code",
   "execution_count": null,
   "metadata": {},
   "outputs": [],
   "source": [
    "# will json data to Producer\n",
    "df_apple_30days_data.sample(1).to_dict(orient=\"records\")[0]"
   ]
  },
  {
   "cell_type": "markdown",
   "metadata": {},
   "source": [
    "# Send Data to Producer"
   ]
  },
  {
   "cell_type": "code",
   "execution_count": null,
   "metadata": {},
   "outputs": [],
   "source": [
    "# !pip install kafka-python\n",
    "import pandas as pd\n",
    "from kafka import KafkaProducer \n",
    "from time import sleep\n",
    "from json import dumps\n",
    "import json"
   ]
  },
  {
   "cell_type": "code",
   "execution_count": null,
   "metadata": {},
   "outputs": [],
   "source": [
    "producer = KafkaProducer(bootstrap_servers=['<public-ip>:9092'], #change ip here\n",
    "                         value_serializer=lambda x: \n",
    "                         dumps(x).encode('utf-8'))"
   ]
  },
  {
   "cell_type": "code",
   "execution_count": null,
   "metadata": {},
   "outputs": [],
   "source": [
    "topic_name='demo_test'\n",
    "\n",
    "while True:\n",
    "    dict_stock = df_apple_30days_data.sample(1).to_dict(orient=\"records\")[0]\n",
    "    producer.send(topic_name, value=dict_stock)\n",
    "    sleep(1)"
   ]
  },
  {
   "cell_type": "code",
   "execution_count": null,
   "metadata": {},
   "outputs": [],
   "source": [
    "producer.flush() #clear data from kafka server"
   ]
  },
  {
   "cell_type": "code",
   "execution_count": null,
   "metadata": {},
   "outputs": [],
   "source": []
  }
 ],
 "metadata": {
  "kernelspec": {
   "display_name": "Python 3 (ipykernel)",
   "language": "python",
   "name": "python3"
  },
  "language_info": {
   "codemirror_mode": {
    "name": "ipython",
    "version": 3
   },
   "file_extension": ".py",
   "mimetype": "text/x-python",
   "name": "python",
   "nbconvert_exporter": "python",
   "pygments_lexer": "ipython3",
   "version": "3.11.3"
  }
 },
 "nbformat": 4,
 "nbformat_minor": 2
}
